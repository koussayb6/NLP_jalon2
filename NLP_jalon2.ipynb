{
  "nbformat": 4,
  "nbformat_minor": 0,
  "metadata": {
    "colab": {
      "provenance": []
    },
    "kernelspec": {
      "name": "python3",
      "display_name": "Python 3"
    },
    "language_info": {
      "name": "python"
    }
  },
  "cells": [
    {
      "cell_type": "code",
      "execution_count": 1,
      "metadata": {
        "id": "FEtXupPnVQ50"
      },
      "outputs": [],
      "source": [
        "import pandas as pd\n",
        "from sklearn.feature_extraction.text import TfidfVectorizer\n",
        "from sklearn.decomposition import NMF\n",
        "import numpy as np"
      ]
    },
    {
      "cell_type": "code",
      "source": [
        "DATASET_FILE = \"./output.csv\"\n",
        "df = pd.read_csv(DATASET_FILE)\n",
        "df_initial = pd.read_csv(DATASET_FILE)\n",
        "df= df[df['stars'].isin([1,2])]\n",
        "df=df[['text_cleaned']]\n",
        "df.text_cleaned"
      ],
      "metadata": {
        "colab": {
          "base_uri": "https://localhost:8080/"
        },
        "id": "wjkcqU6HbNpI",
        "outputId": "b5341bae-7f55-4f6a-c1cb-ebd7ceafd079"
      },
      "execution_count": 2,
      "outputs": [
        {
          "output_type": "execute_result",
          "data": {
            "text/plain": [
              "0       food not_memorable curry balance flavor not_th...\n",
              "1       not_return sit booth wait dinner come scurry m...\n",
              "2       wish experience great din night week ago meal ...\n",
              "3       rosemary grapefruit scone suppose taste like b...\n",
              "4       Our takeout order half miss portion size If bu...\n",
              "                              ...                        \n",
              "9995            vegetable not_enough meat The broth plain\n",
              "9996    work hear new place open co-worker decide try ...\n",
              "9997    went dinner drink good food We order popcorn s...\n",
              "9998    food mediocre not_horrible not_great I sausage...\n",
              "9999    This second time think food decent The come se...\n",
              "Name: text_cleaned, Length: 10000, dtype: object"
            ]
          },
          "metadata": {},
          "execution_count": 2
        }
      ]
    },
    {
      "cell_type": "code",
      "source": [
        "tv = TfidfVectorizer(stop_words=['good','great'], ngram_range = (1,1), max_df = .8, min_df = .01)\n",
        "\n",
        "data_tv = tv.fit_transform(df.text_cleaned.apply(lambda x: np.str_(x)))\n",
        "data_dtm = pd.DataFrame(data_tv.toarray(), columns=tv.get_feature_names())\n"
      ],
      "metadata": {
        "colab": {
          "base_uri": "https://localhost:8080/"
        },
        "id": "GMvexZwzbE95",
        "outputId": "1cd8b84d-09aa-4016-edbf-e591b0196ef9"
      },
      "execution_count": 3,
      "outputs": [
        {
          "output_type": "stream",
          "name": "stderr",
          "text": [
            "/usr/local/lib/python3.7/dist-packages/sklearn/utils/deprecation.py:87: FutureWarning: Function get_feature_names is deprecated; get_feature_names is deprecated in 1.0 and will be removed in 1.2. Please use get_feature_names_out instead.\n",
            "  warnings.warn(msg, category=FutureWarning)\n"
          ]
        }
      ]
    },
    {
      "cell_type": "code",
      "source": [
        "def display_topics(model, feature_names, num_top_words, topic_names=None):\n",
        "    # iterate through topics in topic-term matrix, 'H' aka\n",
        "    # model.components_\n",
        "    for ix, topic in enumerate(model.components_):\n",
        "        #print topic, topic number, and top words\n",
        "        if not topic_names or not topic_names[ix]:\n",
        "            print(\"\\nTopic \", ix)\n",
        "        else:\n",
        "            print(\"\\nTopic: '\",topic_names[ix],\"'\")\n",
        "        print(\", \".join([feature_names[i] for i in topic.argsort()[:-num_top_words - 1:-1]]))"
      ],
      "metadata": {
        "id": "WvyeRsJvgtVv"
      },
      "execution_count": 4,
      "outputs": []
    },
    {
      "cell_type": "code",
      "source": [
        "nmf_model = NMF(15, random_state=2)\n",
        "# Learn an NMF model for given Document Term Matrix 'V' \n",
        "# Extract the document-topic matrix 'W'\n",
        "doc_topic = nmf_model.fit_transform(data_dtm)\n",
        "# Extract top words from the topic-term matrix 'H' display_topics(nmf_model, tv_noun.get_feature_names(), 5)\n",
        "display_topics(nmf_model, tv.get_feature_names(), 5)"
      ],
      "metadata": {
        "colab": {
          "base_uri": "https://localhost:8080/"
        },
        "id": "dk2kTc74g3eo",
        "outputId": "fb86e0a0-e73b-44fa-839d-b52285ce42a4"
      },
      "execution_count": 8,
      "outputs": [
        {
          "output_type": "stream",
          "name": "stderr",
          "text": [
            "/usr/local/lib/python3.7/dist-packages/sklearn/decomposition/_nmf.py:294: FutureWarning: The 'init' value, when 'init=None' and n_components is less than n_samples and n_features, will be changed from 'nndsvd' to 'nndsvda' in 1.1 (renaming of 0.26).\n",
            "  FutureWarning,\n"
          ]
        },
        {
          "output_type": "stream",
          "name": "stdout",
          "text": [
            "\n",
            "Topic  0\n",
            "table, we, come, server, waitress\n",
            "\n",
            "Topic  1\n",
            "like, taste, it, bland, flavor\n",
            "\n",
            "Topic  2\n",
            "service, food, slow, horrible, terrible\n",
            "\n",
            "Topic  3\n",
            "customer, tell, rude, work, ask\n",
            "\n",
            "Topic  4\n",
            "chicken, fry, cheese, order, meat\n",
            "\n",
            "Topic  5\n",
            "minute, wait, 10, 30, 15\n",
            "\n",
            "Topic  6\n",
            "price, small, portion, quality, high\n",
            "\n",
            "Topic  7\n",
            "restaurant, food, there, menu, chinese\n",
            "\n",
            "Topic  8\n",
            "place, this, star, if, eat\n",
            "\n",
            "Topic  9\n",
            "bar, drink, beer, bartender, night\n",
            "\n",
            "Topic  10\n",
            "hour, half, delivery, pizza, cold\n",
            "\n",
            "Topic  11\n",
            "bad, experience, review, attitude, terrible\n",
            "\n",
            "Topic  12\n",
            "time, use, year, location, love\n",
            "\n",
            "Topic  13\n",
            "not_be, return, will, decent, soon\n",
            "\n",
            "Topic  14\n",
            "they, charge, horrible, and, mess\n"
          ]
        },
        {
          "output_type": "stream",
          "name": "stderr",
          "text": [
            "/usr/local/lib/python3.7/dist-packages/sklearn/decomposition/_nmf.py:1641: ConvergenceWarning: Maximum number of iterations 200 reached. Increase it to improve convergence.\n",
            "  ConvergenceWarning,\n",
            "/usr/local/lib/python3.7/dist-packages/sklearn/utils/deprecation.py:87: FutureWarning: Function get_feature_names is deprecated; get_feature_names is deprecated in 1.0 and will be removed in 1.2. Please use get_feature_names_out instead.\n",
            "  warnings.warn(msg, category=FutureWarning)\n"
          ]
        }
      ]
    },
    {
      "cell_type": "code",
      "source": [
        "dfr=pd.DataFrame(doc_topic)\n",
        "dict={}\n",
        "for i in range(15):\n",
        "  top3=dfr.nlargest(3, i, keep='all')\n",
        "  top3Indexes=top3[0].keys().tolist()\n",
        "  \n",
        "  dict[i]=df_initial['text'][top3Indexes].tolist()\n",
        "dff= pd.DataFrame(dict)\n",
        "dff"
      ],
      "metadata": {
        "colab": {
          "base_uri": "https://localhost:8080/",
          "height": 659
        },
        "id": "HpMpP-2Tq97G",
        "outputId": "5c8e0499-4e25-4167-a037-44d3584c803f"
      },
      "execution_count": 25,
      "outputs": [
        {
          "output_type": "execute_result",
          "data": {
            "text/plain": [
              "                                                  0   \\\n",
              "0  Wife and I went out for an early dinner and ar...   \n",
              "1  Horrible experience.  We have eaten here befor...   \n",
              "2  THE SERVICE WAS HORRIBLE. Tara, my group's ser...   \n",
              "\n",
              "                                                  1   \\\n",
              "0  Worst chai latte I have ever had. It tasted li...   \n",
              "1  レビューが良かったので行って見たけど、残念でした。日本のみたい...なんて間違っても言えない...   \n",
              "2  Disgusting and bland, their kitchen looks smal...   \n",
              "\n",
              "                                                  2   \\\n",
              "0  Combine overpriced yet insipid food with frank...   \n",
              "1  Very mediocre Steaks. Horrible risotto. Great ...   \n",
              "2  Do yourself  a favor and go somewhere else. Fo...   \n",
              "\n",
              "                                                  3   \\\n",
              "0  I called due to a ad on a website provided by ...   \n",
              "1  Just came to this restaurant, came in @ around...   \n",
              "2  Rosie's Bakery is the no good. I'm not an exce...   \n",
              "\n",
              "                                                  4   \\\n",
              "0  Two attempts and neither went well.  Ate in an...   \n",
              "1  Had a very disappointing experience.  Ordered ...   \n",
              "2  We have ordered here several times and my husb...   \n",
              "\n",
              "                                                  5   \\\n",
              "0  I ordered takeout and I was told it would be r...   \n",
              "1  The place was half full and they told us there...   \n",
              "2  Waited over two hours and never got pizza. Tri...   \n",
              "\n",
              "                                                  6   \\\n",
              "0  Crazy crazy high prices. Stunning, really. Bre...   \n",
              "1  Do not go here!!!!  Super expensive and not go...   \n",
              "2  nice atmosphere with the comic figurines. tast...   \n",
              "\n",
              "                                                  7   \\\n",
              "0         They didn't accept restaurant com coupons.   \n",
              "1  Purchased a www.restaraunt.com certificate for...   \n",
              "2  Chinese restaurants are known for not being to...   \n",
              "\n",
              "                                                  8   \\\n",
              "0  Want good Italian food for the same price? Go ...   \n",
              "1  This place is closed and it's not mentioned on...   \n",
              "2  If I could give 0 stars, i would. The only IPA...   \n",
              "\n",
              "                                                  9   \\\n",
              "0  Bad pours on drinks and a rude bar manger.  Ne...   \n",
              "1  Go for the drinks at the bar.  The food is med...   \n",
              "2  Decent drinks, but one of the bartenders was a...   \n",
              "\n",
              "                                                  10  \\\n",
              "0  This place is TERRIBLE!!! The food is just ave...   \n",
              "1  Worst Dominos. Over a  two an a half hour wait...   \n",
              "2  Worst place to order delivery from. Put an ord...   \n",
              "\n",
              "                                                  11  \\\n",
              "0  Pad Thai is sweet (not real pad thai) and quit...   \n",
              "1  Fake Chinese food...worst Chinese food experie...   \n",
              "2  Their food was quiet good. I went there when i...   \n",
              "\n",
              "                                                  12  \\\n",
              "0  I used to eat here all the time and LOVED it.....   \n",
              "1  Pretty decent sushi actually. It's funny - I u...   \n",
              "2  I used to love this shit as a kid.  \\n\\nDrivin...   \n",
              "\n",
              "                                                  13  \\\n",
              "0  Their beignets shouldn't be called beignets! I...   \n",
              "1  Boo drive all the way down to south austin and...   \n",
              "2  Chinese restaurants are known for not being to...   \n",
              "\n",
              "                                                  14  \n",
              "0  Watch out for the mice! They actually have a n...  \n",
              "1  This place is spacious but so chaotic. They ne...  \n",
              "2  Don't waste your time stopping.  They don't ha...  "
            ],
            "text/html": [
              "\n",
              "  <div id=\"df-7cec2122-4f9c-41dc-a981-f3eafb8e63d9\">\n",
              "    <div class=\"colab-df-container\">\n",
              "      <div>\n",
              "<style scoped>\n",
              "    .dataframe tbody tr th:only-of-type {\n",
              "        vertical-align: middle;\n",
              "    }\n",
              "\n",
              "    .dataframe tbody tr th {\n",
              "        vertical-align: top;\n",
              "    }\n",
              "\n",
              "    .dataframe thead th {\n",
              "        text-align: right;\n",
              "    }\n",
              "</style>\n",
              "<table border=\"1\" class=\"dataframe\">\n",
              "  <thead>\n",
              "    <tr style=\"text-align: right;\">\n",
              "      <th></th>\n",
              "      <th>0</th>\n",
              "      <th>1</th>\n",
              "      <th>2</th>\n",
              "      <th>3</th>\n",
              "      <th>4</th>\n",
              "      <th>5</th>\n",
              "      <th>6</th>\n",
              "      <th>7</th>\n",
              "      <th>8</th>\n",
              "      <th>9</th>\n",
              "      <th>10</th>\n",
              "      <th>11</th>\n",
              "      <th>12</th>\n",
              "      <th>13</th>\n",
              "      <th>14</th>\n",
              "    </tr>\n",
              "  </thead>\n",
              "  <tbody>\n",
              "    <tr>\n",
              "      <th>0</th>\n",
              "      <td>Wife and I went out for an early dinner and ar...</td>\n",
              "      <td>Worst chai latte I have ever had. It tasted li...</td>\n",
              "      <td>Combine overpriced yet insipid food with frank...</td>\n",
              "      <td>I called due to a ad on a website provided by ...</td>\n",
              "      <td>Two attempts and neither went well.  Ate in an...</td>\n",
              "      <td>I ordered takeout and I was told it would be r...</td>\n",
              "      <td>Crazy crazy high prices. Stunning, really. Bre...</td>\n",
              "      <td>They didn't accept restaurant com coupons.</td>\n",
              "      <td>Want good Italian food for the same price? Go ...</td>\n",
              "      <td>Bad pours on drinks and a rude bar manger.  Ne...</td>\n",
              "      <td>This place is TERRIBLE!!! The food is just ave...</td>\n",
              "      <td>Pad Thai is sweet (not real pad thai) and quit...</td>\n",
              "      <td>I used to eat here all the time and LOVED it.....</td>\n",
              "      <td>Their beignets shouldn't be called beignets! I...</td>\n",
              "      <td>Watch out for the mice! They actually have a n...</td>\n",
              "    </tr>\n",
              "    <tr>\n",
              "      <th>1</th>\n",
              "      <td>Horrible experience.  We have eaten here befor...</td>\n",
              "      <td>レビューが良かったので行って見たけど、残念でした。日本のみたい...なんて間違っても言えない...</td>\n",
              "      <td>Very mediocre Steaks. Horrible risotto. Great ...</td>\n",
              "      <td>Just came to this restaurant, came in @ around...</td>\n",
              "      <td>Had a very disappointing experience.  Ordered ...</td>\n",
              "      <td>The place was half full and they told us there...</td>\n",
              "      <td>Do not go here!!!!  Super expensive and not go...</td>\n",
              "      <td>Purchased a www.restaraunt.com certificate for...</td>\n",
              "      <td>This place is closed and it's not mentioned on...</td>\n",
              "      <td>Go for the drinks at the bar.  The food is med...</td>\n",
              "      <td>Worst Dominos. Over a  two an a half hour wait...</td>\n",
              "      <td>Fake Chinese food...worst Chinese food experie...</td>\n",
              "      <td>Pretty decent sushi actually. It's funny - I u...</td>\n",
              "      <td>Boo drive all the way down to south austin and...</td>\n",
              "      <td>This place is spacious but so chaotic. They ne...</td>\n",
              "    </tr>\n",
              "    <tr>\n",
              "      <th>2</th>\n",
              "      <td>THE SERVICE WAS HORRIBLE. Tara, my group's ser...</td>\n",
              "      <td>Disgusting and bland, their kitchen looks smal...</td>\n",
              "      <td>Do yourself  a favor and go somewhere else. Fo...</td>\n",
              "      <td>Rosie's Bakery is the no good. I'm not an exce...</td>\n",
              "      <td>We have ordered here several times and my husb...</td>\n",
              "      <td>Waited over two hours and never got pizza. Tri...</td>\n",
              "      <td>nice atmosphere with the comic figurines. tast...</td>\n",
              "      <td>Chinese restaurants are known for not being to...</td>\n",
              "      <td>If I could give 0 stars, i would. The only IPA...</td>\n",
              "      <td>Decent drinks, but one of the bartenders was a...</td>\n",
              "      <td>Worst place to order delivery from. Put an ord...</td>\n",
              "      <td>Their food was quiet good. I went there when i...</td>\n",
              "      <td>I used to love this shit as a kid.  \\n\\nDrivin...</td>\n",
              "      <td>Chinese restaurants are known for not being to...</td>\n",
              "      <td>Don't waste your time stopping.  They don't ha...</td>\n",
              "    </tr>\n",
              "  </tbody>\n",
              "</table>\n",
              "</div>\n",
              "      <button class=\"colab-df-convert\" onclick=\"convertToInteractive('df-7cec2122-4f9c-41dc-a981-f3eafb8e63d9')\"\n",
              "              title=\"Convert this dataframe to an interactive table.\"\n",
              "              style=\"display:none;\">\n",
              "        \n",
              "  <svg xmlns=\"http://www.w3.org/2000/svg\" height=\"24px\"viewBox=\"0 0 24 24\"\n",
              "       width=\"24px\">\n",
              "    <path d=\"M0 0h24v24H0V0z\" fill=\"none\"/>\n",
              "    <path d=\"M18.56 5.44l.94 2.06.94-2.06 2.06-.94-2.06-.94-.94-2.06-.94 2.06-2.06.94zm-11 1L8.5 8.5l.94-2.06 2.06-.94-2.06-.94L8.5 2.5l-.94 2.06-2.06.94zm10 10l.94 2.06.94-2.06 2.06-.94-2.06-.94-.94-2.06-.94 2.06-2.06.94z\"/><path d=\"M17.41 7.96l-1.37-1.37c-.4-.4-.92-.59-1.43-.59-.52 0-1.04.2-1.43.59L10.3 9.45l-7.72 7.72c-.78.78-.78 2.05 0 2.83L4 21.41c.39.39.9.59 1.41.59.51 0 1.02-.2 1.41-.59l7.78-7.78 2.81-2.81c.8-.78.8-2.07 0-2.86zM5.41 20L4 18.59l7.72-7.72 1.47 1.35L5.41 20z\"/>\n",
              "  </svg>\n",
              "      </button>\n",
              "      \n",
              "  <style>\n",
              "    .colab-df-container {\n",
              "      display:flex;\n",
              "      flex-wrap:wrap;\n",
              "      gap: 12px;\n",
              "    }\n",
              "\n",
              "    .colab-df-convert {\n",
              "      background-color: #E8F0FE;\n",
              "      border: none;\n",
              "      border-radius: 50%;\n",
              "      cursor: pointer;\n",
              "      display: none;\n",
              "      fill: #1967D2;\n",
              "      height: 32px;\n",
              "      padding: 0 0 0 0;\n",
              "      width: 32px;\n",
              "    }\n",
              "\n",
              "    .colab-df-convert:hover {\n",
              "      background-color: #E2EBFA;\n",
              "      box-shadow: 0px 1px 2px rgba(60, 64, 67, 0.3), 0px 1px 3px 1px rgba(60, 64, 67, 0.15);\n",
              "      fill: #174EA6;\n",
              "    }\n",
              "\n",
              "    [theme=dark] .colab-df-convert {\n",
              "      background-color: #3B4455;\n",
              "      fill: #D2E3FC;\n",
              "    }\n",
              "\n",
              "    [theme=dark] .colab-df-convert:hover {\n",
              "      background-color: #434B5C;\n",
              "      box-shadow: 0px 1px 3px 1px rgba(0, 0, 0, 0.15);\n",
              "      filter: drop-shadow(0px 1px 2px rgba(0, 0, 0, 0.3));\n",
              "      fill: #FFFFFF;\n",
              "    }\n",
              "  </style>\n",
              "\n",
              "      <script>\n",
              "        const buttonEl =\n",
              "          document.querySelector('#df-7cec2122-4f9c-41dc-a981-f3eafb8e63d9 button.colab-df-convert');\n",
              "        buttonEl.style.display =\n",
              "          google.colab.kernel.accessAllowed ? 'block' : 'none';\n",
              "\n",
              "        async function convertToInteractive(key) {\n",
              "          const element = document.querySelector('#df-7cec2122-4f9c-41dc-a981-f3eafb8e63d9');\n",
              "          const dataTable =\n",
              "            await google.colab.kernel.invokeFunction('convertToInteractive',\n",
              "                                                     [key], {});\n",
              "          if (!dataTable) return;\n",
              "\n",
              "          const docLinkHtml = 'Like what you see? Visit the ' +\n",
              "            '<a target=\"_blank\" href=https://colab.research.google.com/notebooks/data_table.ipynb>data table notebook</a>'\n",
              "            + ' to learn more about interactive tables.';\n",
              "          element.innerHTML = '';\n",
              "          dataTable['output_type'] = 'display_data';\n",
              "          await google.colab.output.renderOutput(dataTable, element);\n",
              "          const docLink = document.createElement('div');\n",
              "          docLink.innerHTML = docLinkHtml;\n",
              "          element.appendChild(docLink);\n",
              "        }\n",
              "      </script>\n",
              "    </div>\n",
              "  </div>\n",
              "  "
            ]
          },
          "metadata": {},
          "execution_count": 25
        }
      ]
    },
    {
      "cell_type": "code",
      "source": [
        "\n",
        "topics_dict={}\n",
        "topics_dict[0]=\"Slow table service\"\n",
        "topics_dict[1]=\"Bland food\"\n",
        "topics_dict[2]=\"Terrible food and service\"\n",
        "topics_dict[3]=\"rude employees\"\n",
        "topics_dict[4]=\"non delicious chicken and salad\"\n",
        "topics_dict[5]=\"long wait time\"\n",
        "topics_dict[6]=\"Expensive and small portions\"\n",
        "topics_dict[7]=\"Restaurant.com certificates refused\"\n",
        "topics_dict[8]=\"0 stars\"\n",
        "topics_dict[9]=\"bad bar service\"\n",
        "topics_dict[10]=\"Pizza delivery\"\n",
        "topics_dict[11]=\"bad asian food\"\n",
        "topics_dict[12]=\"shrimp/sushi\"\n",
        "topics_dict[13]=\"dirty restaurant\"\n",
        "topics_dict[14]=\"not organizes\"\n",
        "topics_dict"
      ],
      "metadata": {
        "colab": {
          "base_uri": "https://localhost:8080/"
        },
        "id": "zp8767JdlDs9",
        "outputId": "a045c1c8-a457-4d42-cf83-4914fe669e3b"
      },
      "execution_count": 24,
      "outputs": [
        {
          "output_type": "execute_result",
          "data": {
            "text/plain": [
              "{0: 'Slow table service',\n",
              " 1: 'Bland food',\n",
              " 2: 'Terrible food and service',\n",
              " 3: 'rude employees',\n",
              " 4: 'non delicious chicken and salad',\n",
              " 5: 'long wait time',\n",
              " 6: 'Expensive and small portions',\n",
              " 7: 'Restaurant.com certificates refused',\n",
              " 8: '0 stars',\n",
              " 9: 'bad bar service',\n",
              " 10: 'Pizza delivery',\n",
              " 11: 'bad asian food',\n",
              " 12: 'shrimp/sushi',\n",
              " 13: 'dirty restaurant',\n",
              " 14: 'not organizes'}"
            ]
          },
          "metadata": {},
          "execution_count": 24
        }
      ]
    },
    {
      "cell_type": "code",
      "source": [
        "import pickle\n",
        "pickle.dump(tv, open(\"tfidf.vec\", 'wb'))"
      ],
      "metadata": {
        "id": "59IT3n94PVr9"
      },
      "execution_count": 26,
      "outputs": []
    },
    {
      "cell_type": "code",
      "source": [
        "pickle.dump(nmf_model, open(\"nmf.pkl\", 'wb'))"
      ],
      "metadata": {
        "id": "FrMYYSbOPyWJ"
      },
      "execution_count": 27,
      "outputs": []
    }
  ]
}